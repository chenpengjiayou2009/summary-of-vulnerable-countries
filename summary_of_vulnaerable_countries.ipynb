{
 "cells": [
  {
   "cell_type": "code",
   "execution_count": 3,
   "metadata": {
    "collapsed": true
   },
   "outputs": [],
   "source": [
    "import pandas as pd\n",
    "file_path = 'keepIton_stop_data_2016_2023.xlsx'"
   ]
  },
  {
   "cell_type": "code",
   "execution_count": 10,
   "outputs": [
    {
     "name": "stdout",
     "output_type": "stream",
     "text": [
      "Sheet names: ['2023', '2022', '2021', '2020', '2019', '2018', '2017', '2016', 'Data updates']\n"
     ]
    }
   ],
   "source": [
    "\n",
    "# Load the Excel file\n",
    "excel_data = pd.ExcelFile(file_path)\n",
    "\n",
    "# Display sheet names\n",
    "print(\"Sheet names:\", excel_data.sheet_names)\n",
    "\n",
    "\n",
    "# Parse the first sheet\n",
    "df_2023 = excel_data.parse(excel_data.sheet_names[0])\n",
    "df_2022 = excel_data.parse(excel_data.sheet_names[1])\n",
    "df_2021 = excel_data.parse(excel_data.sheet_names[2])\n",
    "df_2020 = excel_data.parse(excel_data.sheet_names[3])\n",
    "df_2019 = excel_data.parse(excel_data.sheet_names[4])\n",
    "df_2018 = excel_data.parse(excel_data.sheet_names[5])\n",
    "df_2017 = excel_data.parse(excel_data.sheet_names[6])\n",
    "df_2016 = excel_data.parse(excel_data.sheet_names[7])\n"
   ],
   "metadata": {
    "collapsed": false
   }
  },
  {
   "cell_type": "code",
   "execution_count": 8,
   "outputs": [
    {
     "name": "stdout",
     "output_type": "stream",
     "text": [
      "country\n",
      "India                                 102\n",
      "Myanmar                                37\n",
      "Iran (Islamic Republic of)             31\n",
      "Palestine, State of                    16\n",
      "Ukraine                                 8\n",
      "Azerbaijan                              4\n",
      "Pakistan                                4\n",
      "Iraq                                    4\n",
      "Bangladesh                              3\n",
      "Libya                                   3\n",
      "Ethiopia                                2\n",
      "Senegal                                 2\n",
      "Syrian Arab Republic                    2\n",
      "Sudan                                   2\n",
      "Mauritania                              2\n",
      "Somaliland                              1\n",
      "Cuba                                    1\n",
      "Algeria                                 1\n",
      "Turkmenistan                            1\n",
      "Gabon                                   1\n",
      "Russian Federation                      1\n",
      "Mozambique                              1\n",
      "Venezuela (Bolivarian Republic of)      1\n",
      "Name: count, dtype: int64\n"
     ]
    }
   ],
   "source": [
    "print(df_2023[df_2023['shutdown_extent']=='Full network']['country'].value_counts())"
   ],
   "metadata": {
    "collapsed": false
   }
  },
  {
   "cell_type": "code",
   "execution_count": 11,
   "outputs": [
    {
     "name": "stdout",
     "output_type": "stream",
     "text": [
      "country\n",
      "India                         83\n",
      "Ukraine                       21\n",
      "Iran (Islamic Republic of)    16\n",
      "Myanmar                        8\n",
      "Bangladesh                     5\n",
      "Sudan                          4\n",
      "Libya                          4\n",
      "Pakistan                       3\n",
      "Turkmenistan                   3\n",
      "Cuba                           2\n",
      "Tajikistan                     2\n",
      "Sierra Leone                   2\n",
      "Ethiopia                       1\n",
      "Syrian Arab Republic           1\n",
      "Yemen                          1\n",
      "Burkina Faso                   1\n",
      "Iraq                           1\n",
      "Uzbekistan                     1\n",
      "Afghanistan                    1\n",
      "Somaliland                     1\n",
      "Jordan                         1\n",
      "Name: count, dtype: int64\n"
     ]
    }
   ],
   "source": [
    "print(df_2022[df_2022['shutdown_extent']=='Full network']['country'].value_counts())"
   ],
   "metadata": {
    "collapsed": false
   }
  },
  {
   "cell_type": "code",
   "execution_count": 12,
   "outputs": [
    {
     "name": "stdout",
     "output_type": "stream",
     "text": [
      "country\n",
      "India                         105\n",
      "Myanmar                        13\n",
      "Iran (Islamic Republic of)      4\n",
      "Sudan                           4\n",
      "Cuba                            3\n",
      "Iraq                            2\n",
      "Syrian Arab Republic            2\n",
      "Chad                            2\n",
      "Ethiopia                        2\n",
      "Yemen                           2\n",
      "Indonesia                       2\n",
      "Uganda                          1\n",
      "Pakistan                        1\n",
      "Niger                           1\n",
      "Gabon                           1\n",
      "Palestine, State of             1\n",
      "Congo                           1\n",
      "Eswatini                        1\n",
      "Algeria                         1\n",
      "Nigeria                         1\n",
      "Afghanistan                     1\n",
      "Bangladesh                      1\n",
      "Burkina Faso                    1\n",
      "Turkmenistan                    1\n",
      "Tajikistan                      1\n",
      "Name: count, dtype: int64\n"
     ]
    }
   ],
   "source": [
    "print(df_2021[df_2021['shutdown_extent']=='Full network']['country'].value_counts())"
   ],
   "metadata": {
    "collapsed": false
   }
  },
  {
   "cell_type": "code",
   "execution_count": 13,
   "outputs": [
    {
     "name": "stdout",
     "output_type": "stream",
     "text": [
      "country\n",
      "India                         107\n",
      "Yemen                           6\n",
      "Ethiopia                        4\n",
      "Kenya                           2\n",
      "Myanmar                         2\n",
      "Syrian Arab Republic            2\n",
      "Sudan                           2\n",
      "Bangladesh                      1\n",
      "Pakistan                        1\n",
      "Iran (Islamic Republic of)      1\n",
      "Togo                            1\n",
      "Mali                            1\n",
      "Kyrgyzstan                      1\n",
      "Name: count, dtype: int64\n"
     ]
    }
   ],
   "source": [
    "print(df_2020[df_2020['shutdown_extent']=='Full network']['country'].value_counts())"
   ],
   "metadata": {
    "collapsed": false
   }
  },
  {
   "cell_type": "code",
   "execution_count": 14,
   "outputs": [
    {
     "name": "stdout",
     "output_type": "stream",
     "text": [
      "country\n",
      "India                                 114\n",
      "Yemen                                  10\n",
      "Pakistan                                6\n",
      "Iraq                                    6\n",
      "Algeria                                 4\n",
      "Russian Federation                      3\n",
      "Iran (Islamic Republic of)              3\n",
      "Bangladesh                              3\n",
      "Ethiopia                                3\n",
      "Syrian Arab Republic                    2\n",
      "Indonesia                               2\n",
      "Myanmar                                 2\n",
      "Congo (Democratic Republic of the)      1\n",
      "Malawi                                  1\n",
      "Sudan                                   1\n",
      "Cameroon                                1\n",
      "Mauritania                              1\n",
      "Ecuador                                 1\n",
      "Name: count, dtype: int64\n"
     ]
    }
   ],
   "source": [
    "print(df_2019[df_2019['shutdown_extent']=='Full network']['country'].value_counts())"
   ],
   "metadata": {
    "collapsed": false
   }
  },
  {
   "cell_type": "code",
   "execution_count": 15,
   "outputs": [
    {
     "name": "stdout",
     "output_type": "stream",
     "text": [
      "country\n",
      "India                                 134\n",
      "Pakistan                               11\n",
      "Ethiopia                                6\n",
      "Yemen                                   6\n",
      "Iraq                                    5\n",
      "Bangladesh                              4\n",
      "Congo (Democratic Republic of the)      3\n",
      "Philippines                             2\n",
      "Chad                                    2\n",
      "Kazakhstan                              1\n",
      "South Korea                             1\n",
      "Sierra Leone                            1\n",
      "Côte d'Ivoire                           1\n",
      "Syrian Arab Republic                    1\n",
      "Nicaragua                               1\n",
      "Russian Federation                      1\n",
      "Togo                                    1\n",
      "Name: count, dtype: int64\n"
     ]
    }
   ],
   "source": [
    "print(df_2018[df_2018['shutdown_extent']=='Full network']['country'].value_counts())"
   ],
   "metadata": {
    "collapsed": false
   }
  },
  {
   "cell_type": "code",
   "execution_count": 16,
   "outputs": [
    {
     "name": "stdout",
     "output_type": "stream",
     "text": [
      "country\n",
      "India                                 66\n",
      "Pakistan                               8\n",
      "Iraq                                   4\n",
      "Syrian Arab Republic                   3\n",
      "Philippines                            1\n",
      "Congo (Democratic Republic of the)     1\n",
      "Cameroon                               1\n",
      "Belarus                                1\n",
      "Ethiopia                               1\n",
      "Algeria                                1\n",
      "Morocco                                1\n",
      "North Korea                            1\n",
      "Togo                                   1\n",
      "Equatorial Guinea                      1\n",
      "Name: count, dtype: int64\n"
     ]
    }
   ],
   "source": [
    "print(df_2017[df_2017['shutdown_extent']=='Full network']['country'].value_counts())"
   ],
   "metadata": {
    "collapsed": false
   }
  },
  {
   "cell_type": "code",
   "execution_count": 17,
   "outputs": [
    {
     "name": "stdout",
     "output_type": "stream",
     "text": [
      "country\n",
      "India                   29\n",
      "Pakistan                 8\n",
      "Syrian Arab Republic     4\n",
      "Iraq                     1\n",
      "Ethiopia                 1\n",
      "Bahrain                  1\n",
      "Bangladesh               1\n",
      "Egypt                    1\n",
      "Turkey                   1\n",
      "Gambia                   1\n",
      "Name: count, dtype: int64\n"
     ]
    }
   ],
   "source": [
    "print(df_2016[df_2016['shutdown_extent']=='Full network']['country'].value_counts())"
   ],
   "metadata": {
    "collapsed": false
   }
  },
  {
   "cell_type": "code",
   "execution_count": null,
   "outputs": [],
   "source": [],
   "metadata": {
    "collapsed": false
   }
  }
 ],
 "metadata": {
  "kernelspec": {
   "display_name": "Python 3",
   "language": "python",
   "name": "python3"
  },
  "language_info": {
   "codemirror_mode": {
    "name": "ipython",
    "version": 2
   },
   "file_extension": ".py",
   "mimetype": "text/x-python",
   "name": "python",
   "nbconvert_exporter": "python",
   "pygments_lexer": "ipython2",
   "version": "2.7.6"
  }
 },
 "nbformat": 4,
 "nbformat_minor": 0
}
